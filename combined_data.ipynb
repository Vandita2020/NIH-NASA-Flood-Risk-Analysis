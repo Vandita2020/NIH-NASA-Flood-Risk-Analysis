{
  "nbformat": 4,
  "nbformat_minor": 0,
  "metadata": {
    "colab": {
      "name": "combined_data.ipynb",
      "provenance": [],
      "collapsed_sections": []
    },
    "kernelspec": {
      "name": "python3",
      "display_name": "Python 3"
    },
    "language_info": {
      "name": "python"
    }
  },
  "cells": [
    {
      "cell_type": "code",
      "metadata": {
        "id": "QW84mf1jn6n6"
      },
      "source": [
        "import pandas as pd\n",
        "hospitals=pd.read_csv(\"Hospitals.csv\")\n",
        "hospitals=hospitals[['ID','NAME','ADDRESS','STATE','LATITUDE','LONGITUDE']]\n",
        "hospitals['TYPE']='HOSPITAL'\n",
        "hospitals=hospitals[(hospitals['STATE']=='AR')|(hospitals['STATE']=='FL')].reset_index(drop=True)\n",
        "\n",
        "urgent_care=pd.read_csv(\"Urgent_Care_Facilities.csv\")\n",
        "urgent_care=urgent_care[['ID','NAME','ADDRESS','STATE',\"Y.1\", \"X.1\"]]\n",
        "urgent_care.columns=['ID','NAME','ADDRESS','STATE','LATITUDE','LONGITUDE']\n",
        "urgent_care['TYPE']='URGENT_CARE'\n",
        "urgent_care=urgent_care[(urgent_care['STATE']=='AR')|(urgent_care['STATE']=='FL')].reset_index(drop=True)\n",
        "\n",
        "pharmacies=pd.read_csv(\"facility.csv\")\n",
        "pharmacies[[\"LATITUDE\", \"LONGITUDE\"]] = pharmacies[\"CalcLocation\"].str.split(\",\", expand = True)\n",
        "pharmacies[\"ID\"] = list(range(1, len(pharmacies)+1))\n",
        "pharmacies=pharmacies[['ID','Name','Address','State','LATITUDE','LONGITUDE']]\n",
        "pharmacies.columns=['ID','NAME','ADDRESS','STATE','LATITUDE','LONGITUDE']\n",
        "pharmacies['TYPE']='PHARMACY'\n",
        "pharmacies=pharmacies[(pharmacies['STATE']=='AR')|(pharmacies['STATE']=='FL')].reset_index(drop=True)\n",
        "\n",
        "\n",
        "\n",
        "frames=[hospitals,urgent_care,pharmacies]\n",
        "combined_data=pd.concat(frames)\n",
        "\n",
        "\n",
        "combined_data.to_csv(\"combined_data.csv\",index=False)"
      ],
      "execution_count": null,
      "outputs": []
    }
  ]
}